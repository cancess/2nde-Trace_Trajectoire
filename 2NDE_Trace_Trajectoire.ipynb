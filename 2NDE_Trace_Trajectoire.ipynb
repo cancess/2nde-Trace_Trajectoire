{
 "cells": [
  {
   "cell_type": "markdown",
   "metadata": {},
   "source": [
    "# __Tracer la trajectoire du motard__\n",
    "\n",
    "__Le but de cette activité est d'utiliser le langage de programmation Python pour réaliser un programme qui, à partir de l'image ci-dessous, tracera la trajectoire du motard, assimilé au point M, dans le référentiel terrestre.__\n",
    "\n",
    "![](images/Motard_MRU.png)"
   ]
  },
  {
   "cell_type": "markdown",
   "metadata": {},
   "source": [
    "# I-Quelques bases en python #"
   ]
  },
  {
   "cell_type": "markdown",
   "metadata": {
    "colab_type": "text",
    "id": "F2xdaFvtA5JB"
   },
   "source": [
    "## 1 - Les commentaires \n",
    "Dans un script, tout ce qui suit le caractère # est ignoré par Python jusqu’à la fin de la ligne et est considéré comme un commentaire. Les commentaires doivent expliquer le code dans un langage humain. L’utilisation des commentaires est indispensable surtout sur un projet qui peut prendre plusieurs semaines. "
   ]
  },
  {
   "cell_type": "code",
   "execution_count": null,
   "metadata": {},
   "outputs": [],
   "source": [
    "# cette ligne est un commentaire"
   ]
  },
  {
   "cell_type": "markdown",
   "metadata": {
    "colab_type": "text",
    "id": "LmBie1rXlU1m"
   },
   "source": [
    "## 2 - Les variables \n",
    "> Définition et nom d’une variable \n",
    "\n",
    "Une variable est une zone de la mémoire dans laquelle une valeur est stockée. Aux yeux du programmeur, cette variable est définie par un nom.\n",
    "\n",
    "> Nommage \n",
    "\n",
    "Le nom des variables en Python peut-être constitué de lettres minuscules (a à z), de lettres majuscules (A à Z), de nombres (0 à 9) ou du caractère souligné (_). Néanmoins, un nom de variable ne doit pas débuter ni par un chiffre, ni par _ et ne peut pas contenir de caractère accentué. Il est interdit d’utiliser un mot “réservé” par Python comme nom de variable (par exemple : print, range, for, from, ...). \n",
    "Python est sensible à la casse, ce qui signifie que les variables TesT, test ou TEST sont différentes. Enfin, vous ne pouvez pas utiliser d’espace dans un nom de variable. \n",
    "\n",
    "\n",
    "En Python, la déclaration d’une variable et son initialisation (c’est-à-dire la première valeur que l’on va stocker dedans) se font en même temps. \n",
    "\n",
    "\n",
    "> Affectation d'une variable : \n",
    "\n",
    "En Python, x=x+1 n'est ni une égalité, ni une équation.  C'est une instruction d'affectation, qui va modifier le contenu de la variable x. Il est d'ailleurs recommandé de lire cette instruction « x reçoit la valeur x+1 » et non pas « x est égal à x+1 ». \n",
    "\n",
    "Un modèle de la variable informatique consiste à dire qu'une variable est une étiquette collée sur une boîte qui peut contenir différentes valeurs. Le contenu de chaque boîte varie au cours de l'exécution du programme. Dans l'exemple ci-dessus , la valeur stockée dans la boite étiquetée \"x\" est \"sortie\", \"additionnée à 1\", la nouvelle valeur est remise dans la boite.\n"
   ]
  },
  {
   "cell_type": "markdown",
   "metadata": {},
   "source": [
    "> __Travail à faire :__ \n",
    "\n",
    "* Analyser le code ci-dessous.  \n",
    "* Prévoir les valeurs des variables a, b et c après exécution du programme.  \n",
    "* Vérifier par l'exécution du code ci-dessous \n",
    "\n",
    "Cliquer dans la cellule grisée ci-dessous et cliquer sur la flèche ![](images/Executer.png) \n"
   ]
  },
  {
   "cell_type": "code",
   "execution_count": null,
   "metadata": {},
   "outputs": [],
   "source": [
    "a=2\n",
    "b=4\n",
    "c=6\n",
    "a=c\n",
    "b=a\n",
    "c=b\n",
    "print(\"a=\", a)\n",
    "print(\"b=\", b)\n",
    "print(\"c=\", c)"
   ]
  },
  {
   "cell_type": "markdown",
   "metadata": {
    "colab_type": "text",
    "id": "_46M6cqAV8HU"
   },
   "source": [
    "> Les types de variables \n",
    "\n",
    "Le type d’une variable correspond à la nature de celle-ci. Les quatres types principaux dont nous aurons besoin dans un premier temps sont les __entiers__ (integer ou __int__), les __réels__ (__float__) , les __chaînes de caractères__ (string ou __str__) et les __booléens__ (__bool__) qui peuvent prendre deux valeurs (True ou False). \n",
    "*Remarque : *Pour une chaîne de caractères, il faut l’entourer de guillemets (simples, doubles voire trois guillemets successifs simples ou doubles) afin d’indiquer à Python le début et la fin de la chaîne.\n",
    "\n",
    "Exemple : exécuter le code ci-dessous"
   ]
  },
  {
   "cell_type": "code",
   "execution_count": null,
   "metadata": {
    "colab": {},
    "colab_type": "code",
    "id": "tJ24PWdgA5JN"
   },
   "outputs": [],
   "source": [
    "x = 2\n",
    "y = 3.14\n",
    "z = \"coucou\"\n",
    "print(type(x))\n",
    "print(type(y))\n",
    "print(type(z))"
   ]
  },
  {
   "cell_type": "markdown",
   "metadata": {},
   "source": [
    "## 3 - Les listes"
   ]
  },
  {
   "cell_type": "markdown",
   "metadata": {},
   "source": [
    "Pour tracer un nuage de points Mi de coordonnées (xi ; yi) dans le repère (O, (Ox), (Oy) il faut deux séries de valeurs : une pour les abscisses des points, l'autre pour les ordonnées.\n",
    "\n",
    "Première possibilité, affecter les valeurs de x et y à plusieurs variables.\n",
    "\n",
    "Analyser puis exécuter le code ci-dessous (soyez attentif aux commentaires qui aident à la compréhension du code)"
   ]
  },
  {
   "cell_type": "code",
   "execution_count": null,
   "metadata": {},
   "outputs": [],
   "source": [
    "#Affectation des valeurs aux 4 variables \n",
    "x1=1.5\n",
    "x2=3.0\n",
    "y1=2.0\n",
    "y2=4.0\n",
    "\n",
    "#Instructions de sortie \n",
    "print('Les valeurs de x sont : ', x1,';', x2)\n",
    "print('Les valeurs de y sont : ', y1,';', y2)"
   ]
  },
  {
   "cell_type": "markdown",
   "metadata": {},
   "source": [
    "On peut aussi utiliser des __listes__\n",
    "\n",
    "> Définition \n",
    "\n",
    "Une liste est une structure de données qui contient une série de valeurs. \n",
    "\n",
    "> Déclaration d'une liste\n",
    "\n",
    "Une liste est déclarée par une __série de valeurs séparées par des virgules, et le tout encadré, par des crochets.__\n",
    "\n",
    "Analyser le code ci-dessous, l'exécuter, observer le résultat et le comparer au précédent."
   ]
  },
  {
   "cell_type": "code",
   "execution_count": null,
   "metadata": {},
   "outputs": [],
   "source": [
    "#Déclaration des listes x et y qui contiennent chacune 2 nombres réels\n",
    "x=[1.5,3.0]\n",
    "y=[2.0,4.0]\n",
    "\n",
    "#Instructions de sortie \n",
    "print('Les valeurs de x sont : ', x)\n",
    "print('Les valeurs de y sont : ', y)"
   ]
  },
  {
   "cell_type": "markdown",
   "metadata": {},
   "source": [
    "> Appeler les éléments d'une liste  \n",
    "\n",
    "On peut appeler les éléments d'une liste par leur position. Ce numéro est appelé indice (ou index) de la liste."
   ]
  },
  {
   "cell_type": "code",
   "execution_count": null,
   "metadata": {},
   "outputs": [],
   "source": [
    "#Déclaration des listes x et y\n",
    "x=[1.5,3.0]\n",
    "y=[2.0,4.0]\n",
    "\n",
    "#Instructions de sortie : afficher les éléments d'indice 1 des deux listes x et y \n",
    "print('abscisse du point M1 :', x[1])\n",
    "print('ordonnée du point M2 :', y[1])"
   ]
  },
  {
   "cell_type": "markdown",
   "metadata": {},
   "source": [
    "Soyez très attentifs au fait que __les indices d’une liste de n éléments commencent à 0 et se terminent à n-1__\n",
    "\n",
    "> __Travail à faire__\n",
    "\n",
    "Copier-coller dans la cellule ci-dessous le code précédent puis le modifier pour :\n",
    "\n",
    "* Afficher les coordonnées du premier point\n",
    "\n",
    "* Tester ce qui se produit si on appelle l'élément d'indice 2 de la liste x ?"
   ]
  },
  {
   "cell_type": "code",
   "execution_count": null,
   "metadata": {},
   "outputs": [],
   "source": []
  },
  {
   "cell_type": "markdown",
   "metadata": {},
   "source": [
    "## 3 – Répétition en nombre connu : la boucle <strong><FONT  color=\"red\" face=\"Courier New\">for</FONT></strong> \n",
    "\n",
    "En programmation, on est souvent amené à répéter plusieurs fois un bloc d'instructions. Incontournables à tout langage de programmation, les boucles vont nous aider à réaliser cette tâche de manière compacte.\n",
    "\n",
    "Python  propose  une  instruction  <strong><FONT  color=\"red\" face=\"Courier New\">for _variable_ in _liste_</FONT></strong> qui  permet  d’exécuter  un  bloc  d’instructions en donnant successivement à la variable les différentes valeurs de la liste.\n",
    "\n",
    "Ainsi l’instruction for va nous permettre de <strong><FONT  color=\"red\" face=\"Courier New\">répéter un bloc d’instruction, un nombre connu de fois</FONT></strong>. \n",
    "\n",
    "> Syntaxe \n",
    "\n",
    "Placer le signe deux-points <strong><FONT  color=\"red\" face=\"Courier New\">« : »</FONT></strong> à la fin de la ligne for. Cela signifie que la boucle for attend un bloc d’instructions, c'est à dire toutes les instructions que Python répètera à chaque itération de la boucle. On appelle ce bloc d’instructions le corps de la boucle. \n",
    "\n",
    "Comment indique-t-on à Python où commence ce bloc et où il se termine ?\n",
    "Cela est signalé uniquement par <strong><FONT  color=\"red\" face=\"Courier New\">l’indentation</FONT></strong>, c’est-à-dire le décalage de la (ou des) ligne(s) du bloc d’instructions.\n",
    "\n",
    "Comment indiquer le nombre de répétitions du corps de la boucle ?\n",
    "Python possède la fonction range() qui permet de faire une boucle sur une liste d’entiers de manière automatique :\n",
    "\n",
    "\n"
   ]
  },
  {
   "cell_type": "code",
   "execution_count": null,
   "metadata": {},
   "outputs": [],
   "source": [
    "#la variable d'itération choisie ici est i (nom au choix)\n",
    "#dans cet exemple il n'y a qu'une instruction print(i) dans le bloc\n",
    "#le bloc d'instruction va être répété pour des valeurs de i allant de 0 à 3\n",
    "\n",
    "for i in range(4) :\n",
    "    print(i)"
   ]
  },
  {
   "cell_type": "markdown",
   "metadata": {},
   "source": [
    "> la fonction range()\n",
    "\n",
    "range(3) crée une liste [0, 1, 2] \n",
    "\n",
    "range(2,5) crée une liste [2, 3, 4]\n",
    "\n",
    "range(0,5,2) crée la liste de 0 à 5 (exclu) avec un pas de 2 soit [0, 2, 4] \n",
    "\n",
    "__la syntaxe est range(start, stop, step))__\n",
    "\n",
    "Analyser puis exécuter le code ci-dessous, observer le résultat."
   ]
  },
  {
   "cell_type": "code",
   "execution_count": null,
   "metadata": {},
   "outputs": [],
   "source": [
    "#creation d'une liste de nombres nommée x\n",
    "x=[0,2.5,5.0,7.5]\n",
    "\n",
    "#creation d'une boucle qui va appeler successivement les éléments de la liste x \n",
    "for i in range (4) :\n",
    "    print(\"valeur de x :\", x[i])"
   ]
  },
  {
   "cell_type": "markdown",
   "metadata": {},
   "source": [
    "> __Travail à faire__\n",
    "\n",
    "Copier-coller dans la cellule ci-dessous le code précédent puis modifier la fonction range pour n'afficher que les deux valeurs de la liste x : 2.5 et 5.0"
   ]
  },
  {
   "cell_type": "code",
   "execution_count": null,
   "metadata": {},
   "outputs": [],
   "source": []
  },
  {
   "cell_type": "markdown",
   "metadata": {},
   "source": [
    "> __Travail à faire__\n",
    "\n",
    "Compléter le code ci-dessous : ajouter une boucle for pour que le code de la cellule ci-dessous affiche le résultat suivant :\n",
    "\n",
    "![](images/Exo_for_range.png)"
   ]
  },
  {
   "cell_type": "code",
   "execution_count": null,
   "metadata": {},
   "outputs": [],
   "source": [
    "#creation d'une liste de nombres nommée x\n",
    "x=[0,2.5,5.0,7.5]\n",
    "#creation d'une liste de variables de type texte\n",
    "rang=[\"premiere\",\"deuxieme\",\"troisieme\",\"quatrieme\"]\n"
   ]
  },
  {
   "cell_type": "markdown",
   "metadata": {},
   "source": [
    "## 4 - Tracer un nuage de points ##\n",
    "\n",
    "> Contruire et afficher le graphe \n",
    "\n",
    "Pour tracer des graphes nous devons importer le module pyplot de la librairie matplotlib.  \n",
    "Nous pouvons utiliser les fonctions scatter() du module pyplot.  \n",
    "\n",
    "Lire les commentaires et les instructions du code ci-dessous puis l'exécuter et observer le résultat."
   ]
  },
  {
   "cell_type": "code",
   "execution_count": null,
   "metadata": {},
   "outputs": [],
   "source": [
    "#importation du module pyplot de la librairie matplotlib\n",
    "from matplotlib import pyplot as plt\n",
    "\n",
    "#Déclaration des listes x et y\n",
    "x=[1.5,3.0]\n",
    "y=[2.0,4.0]\n",
    "\n",
    "#La fonction scatter construit le nuage de points M (x,y)\n",
    "plt.scatter(x, y)\n",
    "\n",
    "#Instruction de sortie : affiche le graphe\n",
    "plt.show()"
   ]
  },
  {
   "cell_type": "markdown",
   "metadata": {},
   "source": [
    "> __Travail à faire__\n",
    "\n",
    "Copier-coller dans la cellule ci-dessous le code précédent puis modifier le pour afficher sur le graphe un point de coordonnées (0 , 0) et un point de coordonnées (6, 8)"
   ]
  },
  {
   "cell_type": "code",
   "execution_count": null,
   "metadata": {},
   "outputs": [],
   "source": []
  },
  {
   "cell_type": "markdown",
   "metadata": {},
   "source": [
    "> Mise en forme des points\n",
    "\n",
    "La fonction scatter() est utilisée pour représenter des nuages de points : compléments sur les paramètres de cette fonction <a href=\"http://www.python-simple.com/python-matplotlib/scatterplot.php\">cette page</a>  \n",
    "\n",
    "Lire les commentaires et les instructions du code ci-dessous puis l'exécuter."
   ]
  },
  {
   "cell_type": "code",
   "execution_count": null,
   "metadata": {},
   "outputs": [],
   "source": [
    "#importation du module pyplot de la librairie matplotlib\n",
    "from matplotlib import pyplot as plt\n",
    "\n",
    "#Déclaration des listes x et y\n",
    "x=[1.5,3.0]\n",
    "y=[2.0,4.0]\n",
    "\n",
    "#La fonction scatter construit le nuage de points\n",
    "#ajout des paramètres (taille, couleur, type de symbole...) de la fonction scatter voir aide en ligne\n",
    "plt.scatter(x, y, s = 130, c = 'yellow', marker = 'o', edgecolors = 'green')\n",
    "\n",
    "#Instruction de sortie : affiche le graphe\n",
    "plt.show()"
   ]
  },
  {
   "cell_type": "markdown",
   "metadata": {},
   "source": [
    "> __Travail à faire__\n",
    "\n",
    "Copier-coller dans la cellule ci-dessous le code précédent puis modifier le pour afficher des points deux fois plus gros, rouges cerclés de noir"
   ]
  },
  {
   "cell_type": "markdown",
   "metadata": {},
   "source": [
    "> Mise en forme du graphique\n",
    "\n",
    "Lire les commentaires et les instructions du code ci-dessous puis l'exécuter."
   ]
  },
  {
   "cell_type": "code",
   "execution_count": null,
   "metadata": {},
   "outputs": [],
   "source": [
    "#importation du module pyplot de la librairie matplotlib\n",
    "from matplotlib import pyplot as plt\n",
    "\n",
    "#Déclaration des listes x et y\n",
    "x=[1.5,3.0]\n",
    "y=[2.0,4.0]\n",
    "#Déclaration de la liste M qui contient des variables de type \"chaine de caractères\"\n",
    "M=['M0','M1']\n",
    "\n",
    "#La fonction scatter construit le nuage de points\n",
    "#paramètres de la fonction scatter : mise en forme du point\n",
    "plt.scatter(x, y, s = 130, c = 'yellow', marker = 'o', edgecolors = 'green')\n",
    "\n",
    "#Titre du graphe\n",
    "plt.title('titre')\n",
    "\n",
    "#Etiquettes des axes\n",
    "plt.xlabel(\"x (m)\")\n",
    "plt.ylabel(\"y (m)\")\n",
    "\n",
    "#Rendre le repère orthonormal, nécessaire pour ne pas déformer la trajectoire\n",
    "plt.axis('equal')\n",
    "\n",
    "#Affichage d'une grille\n",
    "plt.grid()\n",
    "\n",
    "#Affichage d'une étiquette sur le point\n",
    "for i in range(2):\n",
    "    plt.text(x[i], y[i], M[i], size = 'xx-large')\n",
    "\n",
    "#Instruction de sortie : affiche le graphe\n",
    "plt.show()"
   ]
  },
  {
   "cell_type": "markdown",
   "metadata": {},
   "source": [
    "## 4-Tracer la trajectoire du motard ##\n",
    "\n",
    "Le motard est assimilé au point M.\n",
    "\n",
    "La trajectoire est l'ensemble des positions successives occupées par le point M au cours du mouvement\n",
    "![](images/Motard_MRU.png)\n",
    "\n",
    "![](images/Motard_MRU_Tableau.png)\n"
   ]
  },
  {
   "cell_type": "markdown",
   "metadata": {},
   "source": [
    "> __Travail à faire__\n",
    "\n",
    "* Copier-coller des séquences d'instructions pour concevoir un programme qui affiche la totalité de la trajectoire du motard dans un repère orthonormé  \n",
    "* Le point sera un rond rouge cerclé de noir.  \n",
    "* Les grandeurs et leurs unités devront figurer sur les axes des abscisses et ordonnées. Le titre du graphique devra décrire la nature du mouvement et le référentiel d'étude  \n",
    "* Chaque point sera repéré par la lettre M indicé par le numéro du point."
   ]
  },
  {
   "cell_type": "code",
   "execution_count": null,
   "metadata": {},
   "outputs": [],
   "source": []
  }
 ],
 "metadata": {
  "kernelspec": {
   "display_name": "Python 3",
   "language": "python",
   "name": "python3"
  },
  "language_info": {
   "codemirror_mode": {
    "name": "ipython",
    "version": 3
   },
   "file_extension": ".py",
   "mimetype": "text/x-python",
   "name": "python",
   "nbconvert_exporter": "python",
   "pygments_lexer": "ipython3",
   "version": "3.7.1"
  }
 },
 "nbformat": 4,
 "nbformat_minor": 2
}
